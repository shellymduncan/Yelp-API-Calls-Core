{
 "cells": [
  {
   "cell_type": "markdown",
   "id": "817504c8",
   "metadata": {},
   "source": [
    "# Shelly-Ann Duncan\n",
    "# 11/17/22\n",
    "# Yelp API Calls (Core) \n"
   ]
  },
  {
   "cell_type": "markdown",
   "id": "8ddd6819",
   "metadata": {},
   "source": [
    "# Import necessary libraries"
   ]
  },
  {
   "cell_type": "code",
   "execution_count": 1,
   "id": "873c2ebf",
   "metadata": {},
   "outputs": [],
   "source": [
    "# imports\n",
    "import numpy as np\n",
    "import pandas as pd\n",
    "import matplotlib.pyplot as plt\n",
    "import seaborn as sns\n",
    "\n",
    "#additional imports\n",
    "import os, json, math, time\n",
    "from yelpapi import YelpAPI\n",
    "from tqdm.notebook import tqdm_notebook"
   ]
  },
  {
   "cell_type": "code",
   "execution_count": 2,
   "id": "11b035af",
   "metadata": {},
   "outputs": [
    {
     "data": {
      "text/plain": [
       "dict_keys(['Client-ID', 'API Key'])"
      ]
     },
     "execution_count": 2,
     "metadata": {},
     "output_type": "execute_result"
    }
   ],
   "source": [
    "# load API credentials\n",
    "with open('/Users/shell/.secret/yelp_api.json', 'r') as f: \n",
    "    login = json.load(f)\n",
    "login.keys()"
   ]
  },
  {
   "cell_type": "code",
   "execution_count": 3,
   "id": "44634d52",
   "metadata": {},
   "outputs": [
    {
     "data": {
      "text/plain": [
       "<yelpapi.yelpapi.YelpAPI at 0x20825829070>"
      ]
     },
     "execution_count": 3,
     "metadata": {},
     "output_type": "execute_result"
    }
   ],
   "source": [
    "# instantiate YelpAPI variable\n",
    "yelp = YelpAPI(login['API Key'], timeout_s = 5.0)\n",
    "yelp"
   ]
  },
  {
   "cell_type": "markdown",
   "id": "d523389e",
   "metadata": {},
   "source": [
    "# Define search terms and file paths"
   ]
  },
  {
   "cell_type": "code",
   "execution_count": 4,
   "id": "47635801",
   "metadata": {},
   "outputs": [],
   "source": [
    "# set API call paramertes and filename before the first call\n",
    "location = 'Brooklyn, NY 11236'\n",
    "term = 'hamburgers'"
   ]
  },
  {
   "cell_type": "code",
   "execution_count": 5,
   "id": "a81ed193",
   "metadata": {},
   "outputs": [],
   "source": [
    "# specify folder for saving data\n",
    "FOLDER = 'Data/'\n",
    "os.makedirs(FOLDER, exist_ok = True)"
   ]
  },
  {
   "cell_type": "code",
   "execution_count": 6,
   "id": "6475de30",
   "metadata": {},
   "outputs": [
    {
     "data": {
      "text/plain": [
       "'Data/Brooklyn-hamburgers.json'"
      ]
     },
     "execution_count": 6,
     "metadata": {},
     "output_type": "execute_result"
    }
   ],
   "source": [
    "# specify JSON_FILE filename (can include a folder)\n",
    "JSON_FILE = FOLDER + f\"{location.split(',')[0]}-{term}.json\"\n",
    "JSON_FILE"
   ]
  },
  {
   "cell_type": "markdown",
   "id": "7505740e",
   "metadata": {},
   "source": [
    "# Check if Json file exists and create if not"
   ]
  },
  {
   "cell_type": "code",
   "execution_count": 7,
   "id": "be754c8f",
   "metadata": {},
   "outputs": [
    {
     "name": "stdout",
     "output_type": "stream",
     "text": [
      "(i) Data/Brooklyn-hamburgers.json already exists.\n"
     ]
    }
   ],
   "source": [
    "# check if the JSON_FILE exists\n",
    "file_exists = os.path.isfile(JSON_FILE)\n",
    "\n",
    "# if it doens't exist:\n",
    "if file_exists == False:\n",
    "    \n",
    "    # create any needed folders\n",
    "    # get the folder name only\n",
    "    folder = os.path.dirname(JSON_FILE)\n",
    "    \n",
    "    # if JSON_FILE included a folder:\n",
    "    if len(folder) > 0:\n",
    "        # create the folder\n",
    "        os.makedirs(folder, exist_ok = True)\n",
    "        \n",
    "        # inform user and save empty list\n",
    "        print(f\"(i) {JSON_FILE} not found. Saving empty list to file.\")\n",
    "        \n",
    "        # save the first page of results\n",
    "        with open(JSON_FILE, 'w') as f:\n",
    "            json.dump([], f)\n",
    "\n",
    "# if it exists, inform user\n",
    "else:\n",
    "    print(f\"(i) {JSON_FILE} already exists.\")   "
   ]
  },
  {
   "cell_type": "markdown",
   "id": "2b7a8e5f",
   "metadata": {},
   "source": [
    "# Make the first API call to get the first page of data"
   ]
  },
  {
   "cell_type": "code",
   "execution_count": 8,
   "id": "9860275a",
   "metadata": {},
   "outputs": [
    {
     "data": {
      "text/plain": [
       "dict"
      ]
     },
     "execution_count": 8,
     "metadata": {},
     "output_type": "execute_result"
    }
   ],
   "source": [
    "# quick test query\n",
    "results = yelp.search_query(location = location, term = term)\n",
    "type(results)"
   ]
  },
  {
   "cell_type": "code",
   "execution_count": 9,
   "id": "356f9b1c",
   "metadata": {},
   "outputs": [
    {
     "data": {
      "text/plain": [
       "dict_keys(['businesses', 'total', 'region'])"
      ]
     },
     "execution_count": 9,
     "metadata": {},
     "output_type": "execute_result"
    }
   ],
   "source": [
    "# get the result keys\n",
    "results.keys()"
   ]
  },
  {
   "cell_type": "code",
   "execution_count": 10,
   "id": "cc2fa386",
   "metadata": {},
   "outputs": [
    {
     "data": {
      "text/plain": [
       "{'id': 'enbGceHhbBWe4cgMSePd1g',\n",
       " 'alias': '3rd-and-7-brooklyn',\n",
       " 'name': '3rd & 7',\n",
       " 'image_url': 'https://s3-media2.fl.yelpcdn.com/bphoto/R4FqTDFgLcVfwS-OQa-8jA/o.jpg',\n",
       " 'is_closed': False,\n",
       " 'url': 'https://www.yelp.com/biz/3rd-and-7-brooklyn?adjust_creative=azSZ1YV457_fpKmHVQM9Bg&utm_campaign=yelp_api_v3&utm_medium=api_v3_business_search&utm_source=azSZ1YV457_fpKmHVQM9Bg',\n",
       " 'review_count': 92,\n",
       " 'categories': [{'alias': 'sportsbars', 'title': 'Sports Bars'},\n",
       "  {'alias': 'tradamerican', 'title': 'American (Traditional)'}],\n",
       " 'rating': 4.0,\n",
       " 'coordinates': {'latitude': 40.61497, 'longitude': -73.93606},\n",
       " 'transactions': ['delivery'],\n",
       " 'price': '$$',\n",
       " 'location': {'address1': '3622 Quentin Rd',\n",
       "  'address2': '',\n",
       "  'address3': '',\n",
       "  'city': 'Brooklyn',\n",
       "  'zip_code': '11234',\n",
       "  'country': 'US',\n",
       "  'state': 'NY',\n",
       "  'display_address': ['3622 Quentin Rd', 'Brooklyn, NY 11234']},\n",
       " 'phone': '+17183366300',\n",
       " 'display_phone': '(718) 336-6300',\n",
       " 'distance': 4147.371871553623}"
      ]
     },
     "execution_count": 10,
     "metadata": {},
     "output_type": "execute_result"
    }
   ],
   "source": [
    "# get the results for the businesses\n",
    "results['businesses'][0]"
   ]
  },
  {
   "cell_type": "code",
   "execution_count": 11,
   "id": "81682199",
   "metadata": {},
   "outputs": [
    {
     "data": {
      "text/html": [
       "<div>\n",
       "<style scoped>\n",
       "    .dataframe tbody tr th:only-of-type {\n",
       "        vertical-align: middle;\n",
       "    }\n",
       "\n",
       "    .dataframe tbody tr th {\n",
       "        vertical-align: top;\n",
       "    }\n",
       "\n",
       "    .dataframe thead th {\n",
       "        text-align: right;\n",
       "    }\n",
       "</style>\n",
       "<table border=\"1\" class=\"dataframe\">\n",
       "  <thead>\n",
       "    <tr style=\"text-align: right;\">\n",
       "      <th></th>\n",
       "      <th>id</th>\n",
       "      <th>alias</th>\n",
       "      <th>name</th>\n",
       "      <th>image_url</th>\n",
       "      <th>is_closed</th>\n",
       "      <th>url</th>\n",
       "      <th>review_count</th>\n",
       "      <th>categories</th>\n",
       "      <th>rating</th>\n",
       "      <th>coordinates</th>\n",
       "      <th>transactions</th>\n",
       "      <th>price</th>\n",
       "      <th>location</th>\n",
       "      <th>phone</th>\n",
       "      <th>display_phone</th>\n",
       "      <th>distance</th>\n",
       "    </tr>\n",
       "  </thead>\n",
       "  <tbody>\n",
       "    <tr>\n",
       "      <th>0</th>\n",
       "      <td>enbGceHhbBWe4cgMSePd1g</td>\n",
       "      <td>3rd-and-7-brooklyn</td>\n",
       "      <td>3rd &amp; 7</td>\n",
       "      <td>https://s3-media2.fl.yelpcdn.com/bphoto/R4FqTD...</td>\n",
       "      <td>False</td>\n",
       "      <td>https://www.yelp.com/biz/3rd-and-7-brooklyn?ad...</td>\n",
       "      <td>92</td>\n",
       "      <td>[{'alias': 'sportsbars', 'title': 'Sports Bars...</td>\n",
       "      <td>4.0</td>\n",
       "      <td>{'latitude': 40.61497, 'longitude': -73.93606}</td>\n",
       "      <td>[delivery]</td>\n",
       "      <td>$$</td>\n",
       "      <td>{'address1': '3622 Quentin Rd', 'address2': ''...</td>\n",
       "      <td>+17183366300</td>\n",
       "      <td>(718) 336-6300</td>\n",
       "      <td>4147.371872</td>\n",
       "    </tr>\n",
       "    <tr>\n",
       "      <th>1</th>\n",
       "      <td>VkYg-L1v7_MkTs2vd4GGMA</td>\n",
       "      <td>bear-burgers-brooklyn</td>\n",
       "      <td>Bear Burgers</td>\n",
       "      <td>https://s3-media3.fl.yelpcdn.com/bphoto/8La1rT...</td>\n",
       "      <td>False</td>\n",
       "      <td>https://www.yelp.com/biz/bear-burgers-brooklyn...</td>\n",
       "      <td>3</td>\n",
       "      <td>[{'alias': 'newamerican', 'title': 'American (...</td>\n",
       "      <td>4.0</td>\n",
       "      <td>{'latitude': 40.64002, 'longitude': -73.90645}</td>\n",
       "      <td>[delivery, pickup]</td>\n",
       "      <td>NaN</td>\n",
       "      <td>{'address1': '8923 Flatlands Ave', 'address2':...</td>\n",
       "      <td>+16318762809</td>\n",
       "      <td>(631) 876-2809</td>\n",
       "      <td>613.239540</td>\n",
       "    </tr>\n",
       "    <tr>\n",
       "      <th>2</th>\n",
       "      <td>p6RecYP3IzMacRVVYeBwkQ</td>\n",
       "      <td>hot-bagels-brooklyn-7</td>\n",
       "      <td>Hot Bagels</td>\n",
       "      <td>https://s3-media2.fl.yelpcdn.com/bphoto/LaDs11...</td>\n",
       "      <td>False</td>\n",
       "      <td>https://www.yelp.com/biz/hot-bagels-brooklyn-7...</td>\n",
       "      <td>23</td>\n",
       "      <td>[{'alias': 'bagels', 'title': 'Bagels'}]</td>\n",
       "      <td>3.5</td>\n",
       "      <td>{'latitude': 40.64203, 'longitude': -73.89913}</td>\n",
       "      <td>[delivery, pickup]</td>\n",
       "      <td>$</td>\n",
       "      <td>{'address1': '1594 Rockaway Pkwy', 'address2':...</td>\n",
       "      <td>+17182573068</td>\n",
       "      <td>(718) 257-3068</td>\n",
       "      <td>260.402337</td>\n",
       "    </tr>\n",
       "    <tr>\n",
       "      <th>3</th>\n",
       "      <td>fi8ATHFkHnZgFGJWZUl_BA</td>\n",
       "      <td>aunts-et-uncles-brooklyn</td>\n",
       "      <td>Aunts et Uncles</td>\n",
       "      <td>https://s3-media4.fl.yelpcdn.com/bphoto/H9Le_E...</td>\n",
       "      <td>False</td>\n",
       "      <td>https://www.yelp.com/biz/aunts-et-uncles-brook...</td>\n",
       "      <td>151</td>\n",
       "      <td>[{'alias': 'cafes', 'title': 'Cafes'}]</td>\n",
       "      <td>4.5</td>\n",
       "      <td>{'latitude': 40.65207, 'longitude': -73.94954}</td>\n",
       "      <td>[delivery, pickup]</td>\n",
       "      <td>$$</td>\n",
       "      <td>{'address1': '1407 Nostrand Ave', 'address2': ...</td>\n",
       "      <td>+13472950001</td>\n",
       "      <td>(347) 295-0001</td>\n",
       "      <td>4467.798853</td>\n",
       "    </tr>\n",
       "    <tr>\n",
       "      <th>4</th>\n",
       "      <td>GTYn-iP81HKVKl6FGT0_Cw</td>\n",
       "      <td>smashburger-brooklyn-4</td>\n",
       "      <td>Smashburger</td>\n",
       "      <td>https://s3-media4.fl.yelpcdn.com/bphoto/8mUOj9...</td>\n",
       "      <td>False</td>\n",
       "      <td>https://www.yelp.com/biz/smashburger-brooklyn-...</td>\n",
       "      <td>236</td>\n",
       "      <td>[{'alias': 'burgers', 'title': 'Burgers'}]</td>\n",
       "      <td>3.0</td>\n",
       "      <td>{'latitude': 40.65172, 'longitude': -73.87286}</td>\n",
       "      <td>[delivery, pickup]</td>\n",
       "      <td>$$</td>\n",
       "      <td>{'address1': '528 Gateway Dr', 'address2': Non...</td>\n",
       "      <td>+17182356900</td>\n",
       "      <td>(718) 235-6900</td>\n",
       "      <td>2597.572463</td>\n",
       "    </tr>\n",
       "    <tr>\n",
       "      <th>5</th>\n",
       "      <td>to_hmXb3Me-SZsiMfYuoGw</td>\n",
       "      <td>lebron-restaurant-brooklyn-4</td>\n",
       "      <td>Lebron Restaurant</td>\n",
       "      <td>https://s3-media4.fl.yelpcdn.com/bphoto/JJH62I...</td>\n",
       "      <td>False</td>\n",
       "      <td>https://www.yelp.com/biz/lebron-restaurant-bro...</td>\n",
       "      <td>5</td>\n",
       "      <td>[{'alias': 'latin', 'title': 'Latin American'}...</td>\n",
       "      <td>2.5</td>\n",
       "      <td>{'latitude': 40.66918689036557, 'longitude': -...</td>\n",
       "      <td>[delivery, pickup]</td>\n",
       "      <td>NaN</td>\n",
       "      <td>{'address1': '1567 Pitkin Ave', 'address2': ''...</td>\n",
       "      <td>+17183429070</td>\n",
       "      <td>(718) 342-9070</td>\n",
       "      <td>3568.559015</td>\n",
       "    </tr>\n",
       "    <tr>\n",
       "      <th>6</th>\n",
       "      <td>i995W2_m6GuiBPnbHP2sPw</td>\n",
       "      <td>oasis-diner-restaurant-brooklyn-3</td>\n",
       "      <td>Oasis Diner Restaurant</td>\n",
       "      <td>https://s3-media1.fl.yelpcdn.com/bphoto/IA4pmU...</td>\n",
       "      <td>False</td>\n",
       "      <td>https://www.yelp.com/biz/oasis-diner-restauran...</td>\n",
       "      <td>195</td>\n",
       "      <td>[{'alias': 'diners', 'title': 'Diners'}]</td>\n",
       "      <td>4.0</td>\n",
       "      <td>{'latitude': 40.61786, 'longitude': -73.93211}</td>\n",
       "      <td>[delivery, pickup]</td>\n",
       "      <td>$$</td>\n",
       "      <td>{'address1': '2132 Flatbush Ave', 'address2': ...</td>\n",
       "      <td>+17182583461</td>\n",
       "      <td>(718) 258-3461</td>\n",
       "      <td>3683.512690</td>\n",
       "    </tr>\n",
       "    <tr>\n",
       "      <th>7</th>\n",
       "      <td>SyWBNlwqpgb4GLdpTEoQAw</td>\n",
       "      <td>more-than-fries-brooklyn</td>\n",
       "      <td>More Than Fries</td>\n",
       "      <td>https://s3-media2.fl.yelpcdn.com/bphoto/RulwlU...</td>\n",
       "      <td>False</td>\n",
       "      <td>https://www.yelp.com/biz/more-than-fries-brook...</td>\n",
       "      <td>1</td>\n",
       "      <td>[{'alias': 'hotdogs', 'title': 'Fast Food'}, {...</td>\n",
       "      <td>5.0</td>\n",
       "      <td>{'latitude': 40.6642, 'longitude': -73.92428}</td>\n",
       "      <td>[delivery, pickup]</td>\n",
       "      <td>NaN</td>\n",
       "      <td>{'address1': '1077a Rutland Rd', 'address2': '...</td>\n",
       "      <td>+13472406806</td>\n",
       "      <td>(347) 240-6806</td>\n",
       "      <td>3458.581191</td>\n",
       "    </tr>\n",
       "    <tr>\n",
       "      <th>8</th>\n",
       "      <td>VgXNaUKNFW2ibLU9LkuGjg</td>\n",
       "      <td>lindenwood-diner-and-restaurant-brooklyn</td>\n",
       "      <td>Lindenwood Diner &amp; Restaurant</td>\n",
       "      <td>https://s3-media2.fl.yelpcdn.com/bphoto/M1EBu2...</td>\n",
       "      <td>False</td>\n",
       "      <td>https://www.yelp.com/biz/lindenwood-diner-and-...</td>\n",
       "      <td>376</td>\n",
       "      <td>[{'alias': 'diners', 'title': 'Diners'}, {'ali...</td>\n",
       "      <td>4.0</td>\n",
       "      <td>{'latitude': 40.66989, 'longitude': -73.85758}</td>\n",
       "      <td>[pickup]</td>\n",
       "      <td>$$</td>\n",
       "      <td>{'address1': '2870 Linden Blvd', 'address2': '...</td>\n",
       "      <td>+17182356343</td>\n",
       "      <td>(718) 235-6343</td>\n",
       "      <td>4864.815003</td>\n",
       "    </tr>\n",
       "    <tr>\n",
       "      <th>9</th>\n",
       "      <td>gm8BRPLIRTzapBuBUWNPfA</td>\n",
       "      <td>island-burger-brooklyn-4</td>\n",
       "      <td>Island Burger</td>\n",
       "      <td>https://s3-media4.fl.yelpcdn.com/bphoto/MQnA2i...</td>\n",
       "      <td>False</td>\n",
       "      <td>https://www.yelp.com/biz/island-burger-brookly...</td>\n",
       "      <td>194</td>\n",
       "      <td>[{'alias': 'burgers', 'title': 'Burgers'}, {'a...</td>\n",
       "      <td>3.5</td>\n",
       "      <td>{'latitude': 40.634518758278936, 'longitude': ...</td>\n",
       "      <td>[delivery, pickup]</td>\n",
       "      <td>$</td>\n",
       "      <td>{'address1': '2093 Nostrand Ave', 'address2': ...</td>\n",
       "      <td>+13477899955</td>\n",
       "      <td>(347) 789-9955</td>\n",
       "      <td>4125.713778</td>\n",
       "    </tr>\n",
       "    <tr>\n",
       "      <th>10</th>\n",
       "      <td>L62iZeOF6P6qN6qGLvxAsQ</td>\n",
       "      <td>wang-shack-brooklyn</td>\n",
       "      <td>Wang Shack</td>\n",
       "      <td></td>\n",
       "      <td>False</td>\n",
       "      <td>https://www.yelp.com/biz/wang-shack-brooklyn?a...</td>\n",
       "      <td>1</td>\n",
       "      <td>[{'alias': 'waffles', 'title': 'Waffles'}, {'a...</td>\n",
       "      <td>5.0</td>\n",
       "      <td>{'latitude': 40.67324229653363, 'longitude': -...</td>\n",
       "      <td>[delivery, pickup]</td>\n",
       "      <td>NaN</td>\n",
       "      <td>{'address1': '701 Nostrand Ave', 'address2': '...</td>\n",
       "      <td>+13472211795</td>\n",
       "      <td>(347) 221-1795</td>\n",
       "      <td>5691.288308</td>\n",
       "    </tr>\n",
       "    <tr>\n",
       "      <th>11</th>\n",
       "      <td>SZw7PCeIkt575oLU8yNpuQ</td>\n",
       "      <td>brooklyn-chckn-n-lbstr-new-york</td>\n",
       "      <td>Brooklyn Chckn N Lbstr</td>\n",
       "      <td>https://s3-media4.fl.yelpcdn.com/bphoto/zZpJPo...</td>\n",
       "      <td>False</td>\n",
       "      <td>https://www.yelp.com/biz/brooklyn-chckn-n-lbst...</td>\n",
       "      <td>3</td>\n",
       "      <td>[{'alias': 'fishnchips', 'title': 'Fish &amp; Chip...</td>\n",
       "      <td>3.5</td>\n",
       "      <td>{'latitude': 40.66818, 'longitude': -73.90665}</td>\n",
       "      <td>[delivery, pickup]</td>\n",
       "      <td>NaN</td>\n",
       "      <td>{'address1': '446 Mother Gaston Blvd', 'addres...</td>\n",
       "      <td>+13473508738</td>\n",
       "      <td>(347) 350-8738</td>\n",
       "      <td>3232.924158</td>\n",
       "    </tr>\n",
       "    <tr>\n",
       "      <th>12</th>\n",
       "      <td>xh6w5exbzfUWrZXGz09OUg</td>\n",
       "      <td>mashallah-grill-and-restaurant-brooklyn</td>\n",
       "      <td>MashAllah Grill &amp; Restaurant</td>\n",
       "      <td>https://s3-media3.fl.yelpcdn.com/bphoto/PRvEX8...</td>\n",
       "      <td>False</td>\n",
       "      <td>https://www.yelp.com/biz/mashallah-grill-and-r...</td>\n",
       "      <td>2</td>\n",
       "      <td>[{'alias': 'chickenshop', 'title': 'Chicken Sh...</td>\n",
       "      <td>5.0</td>\n",
       "      <td>{'latitude': 40.612306, 'longitude': -73.925784}</td>\n",
       "      <td>[delivery]</td>\n",
       "      <td>NaN</td>\n",
       "      <td>{'address1': '2368 Flatbush Ave', 'address2': ...</td>\n",
       "      <td>+19173108460</td>\n",
       "      <td>(917) 310-8460</td>\n",
       "      <td>3778.566631</td>\n",
       "    </tr>\n",
       "    <tr>\n",
       "      <th>13</th>\n",
       "      <td>aqmBcayYzm_J58P_CNQH6w</td>\n",
       "      <td>bklyn-eats-brooklyn</td>\n",
       "      <td>BKLYN eats</td>\n",
       "      <td>https://s3-media3.fl.yelpcdn.com/bphoto/ZY_Nk8...</td>\n",
       "      <td>False</td>\n",
       "      <td>https://www.yelp.com/biz/bklyn-eats-brooklyn?a...</td>\n",
       "      <td>45</td>\n",
       "      <td>[{'alias': 'breakfast_brunch', 'title': 'Break...</td>\n",
       "      <td>3.5</td>\n",
       "      <td>{'latitude': 40.67547, 'longitude': -73.89855}</td>\n",
       "      <td>[delivery, pickup]</td>\n",
       "      <td>$</td>\n",
       "      <td>{'address1': '2592 Atlantic Ave', 'address2': ...</td>\n",
       "      <td>+13476631519</td>\n",
       "      <td>(347) 663-1519</td>\n",
       "      <td>3980.340123</td>\n",
       "    </tr>\n",
       "    <tr>\n",
       "      <th>14</th>\n",
       "      <td>eob2iJPiR7-r2w4he0Tuig</td>\n",
       "      <td>mill-basin-kosher-deli-brooklyn-3</td>\n",
       "      <td>Mill Basin Kosher Deli</td>\n",
       "      <td>https://s3-media2.fl.yelpcdn.com/bphoto/OPO0Zz...</td>\n",
       "      <td>False</td>\n",
       "      <td>https://www.yelp.com/biz/mill-basin-kosher-del...</td>\n",
       "      <td>237</td>\n",
       "      <td>[{'alias': 'delis', 'title': 'Delis'}, {'alias...</td>\n",
       "      <td>3.5</td>\n",
       "      <td>{'latitude': 40.61567, 'longitude': -73.91812}</td>\n",
       "      <td>[delivery, pickup]</td>\n",
       "      <td>$$</td>\n",
       "      <td>{'address1': '5823 Ave T', 'address2': '', 'ad...</td>\n",
       "      <td>+17182414910</td>\n",
       "      <td>(718) 241-4910</td>\n",
       "      <td>3100.308166</td>\n",
       "    </tr>\n",
       "    <tr>\n",
       "      <th>15</th>\n",
       "      <td>Wckmo8BSOvTQa2CdbW0tGw</td>\n",
       "      <td>burger-urway-brooklyn-4</td>\n",
       "      <td>Burger Urway</td>\n",
       "      <td>https://s3-media3.fl.yelpcdn.com/bphoto/pUEGJI...</td>\n",
       "      <td>False</td>\n",
       "      <td>https://www.yelp.com/biz/burger-urway-brooklyn...</td>\n",
       "      <td>52</td>\n",
       "      <td>[{'alias': 'burgers', 'title': 'Burgers'}, {'a...</td>\n",
       "      <td>2.0</td>\n",
       "      <td>{'latitude': 40.6558, 'longitude': -73.94201}</td>\n",
       "      <td>[delivery, pickup]</td>\n",
       "      <td>$</td>\n",
       "      <td>{'address1': '528 Clarkson Ave', 'address2': '...</td>\n",
       "      <td>+13476636005</td>\n",
       "      <td>(347) 663-6005</td>\n",
       "      <td>4045.318100</td>\n",
       "    </tr>\n",
       "    <tr>\n",
       "      <th>16</th>\n",
       "      <td>ThHjjCmRhQQT6-dhgmJaLQ</td>\n",
       "      <td>five-guys-brooklyn-14</td>\n",
       "      <td>Five Guys</td>\n",
       "      <td>https://s3-media4.fl.yelpcdn.com/bphoto/QUO8-u...</td>\n",
       "      <td>False</td>\n",
       "      <td>https://www.yelp.com/biz/five-guys-brooklyn-14...</td>\n",
       "      <td>34</td>\n",
       "      <td>[{'alias': 'burgers', 'title': 'Burgers'}, {'a...</td>\n",
       "      <td>2.5</td>\n",
       "      <td>{'latitude': 40.62650091307452, 'longitude': -...</td>\n",
       "      <td>[delivery]</td>\n",
       "      <td>$$</td>\n",
       "      <td>{'address1': '2159 Ralph Ave', 'address2': Non...</td>\n",
       "      <td>+13476730368</td>\n",
       "      <td>(347) 673-0368</td>\n",
       "      <td>2047.473712</td>\n",
       "    </tr>\n",
       "    <tr>\n",
       "      <th>17</th>\n",
       "      <td>8_BYOUot2vTJHv1nBfMZlA</td>\n",
       "      <td>boeuf-and-bun-crown-heights</td>\n",
       "      <td>Boeuf &amp; Bun</td>\n",
       "      <td>https://s3-media1.fl.yelpcdn.com/bphoto/_p8a7Q...</td>\n",
       "      <td>False</td>\n",
       "      <td>https://www.yelp.com/biz/boeuf-and-bun-crown-h...</td>\n",
       "      <td>119</td>\n",
       "      <td>[{'alias': 'burgers', 'title': 'Burgers'}]</td>\n",
       "      <td>3.5</td>\n",
       "      <td>{'latitude': 40.670482, 'longitude': -73.941833}</td>\n",
       "      <td>[delivery]</td>\n",
       "      <td>$$</td>\n",
       "      <td>{'address1': '271 Kingston Ave', 'address2': '...</td>\n",
       "      <td>+17182218900</td>\n",
       "      <td>(718) 221-8900</td>\n",
       "      <td>4979.075354</td>\n",
       "    </tr>\n",
       "    <tr>\n",
       "      <th>18</th>\n",
       "      <td>MgGY2TEfFCyzxmMzcqAO6w</td>\n",
       "      <td>the-juicy-box-brooklyn</td>\n",
       "      <td>The Juicy Box</td>\n",
       "      <td>https://s3-media2.fl.yelpcdn.com/bphoto/8l-lij...</td>\n",
       "      <td>False</td>\n",
       "      <td>https://www.yelp.com/biz/the-juicy-box-brookly...</td>\n",
       "      <td>93</td>\n",
       "      <td>[{'alias': 'bars', 'title': 'Bars'}, {'alias':...</td>\n",
       "      <td>3.5</td>\n",
       "      <td>{'latitude': 40.629069, 'longitude': -73.947001}</td>\n",
       "      <td>[delivery, pickup]</td>\n",
       "      <td>$$</td>\n",
       "      <td>{'address1': '2281 Nostrand Ave', 'address2': ...</td>\n",
       "      <td>+19179334088</td>\n",
       "      <td>(917) 933-4088</td>\n",
       "      <td>4202.280140</td>\n",
       "    </tr>\n",
       "    <tr>\n",
       "      <th>19</th>\n",
       "      <td>wP6yFT_H_gevLQq3tOYy3Q</td>\n",
       "      <td>island-burger-brooklyn-2</td>\n",
       "      <td>Island Burger</td>\n",
       "      <td>https://s3-media2.fl.yelpcdn.com/bphoto/ok53gO...</td>\n",
       "      <td>False</td>\n",
       "      <td>https://www.yelp.com/biz/island-burger-brookly...</td>\n",
       "      <td>208</td>\n",
       "      <td>[{'alias': 'burgers', 'title': 'Burgers'}]</td>\n",
       "      <td>3.5</td>\n",
       "      <td>{'latitude': 40.6617093, 'longitude': -73.9317...</td>\n",
       "      <td>[delivery, pickup]</td>\n",
       "      <td>$$</td>\n",
       "      <td>{'address1': '504 Utica Ave', 'address2': '', ...</td>\n",
       "      <td>+17184952474</td>\n",
       "      <td>(718) 495-2474</td>\n",
       "      <td>3683.176928</td>\n",
       "    </tr>\n",
       "  </tbody>\n",
       "</table>\n",
       "</div>"
      ],
      "text/plain": [
       "                        id                                     alias  \\\n",
       "0   enbGceHhbBWe4cgMSePd1g                        3rd-and-7-brooklyn   \n",
       "1   VkYg-L1v7_MkTs2vd4GGMA                     bear-burgers-brooklyn   \n",
       "2   p6RecYP3IzMacRVVYeBwkQ                     hot-bagels-brooklyn-7   \n",
       "3   fi8ATHFkHnZgFGJWZUl_BA                  aunts-et-uncles-brooklyn   \n",
       "4   GTYn-iP81HKVKl6FGT0_Cw                    smashburger-brooklyn-4   \n",
       "5   to_hmXb3Me-SZsiMfYuoGw              lebron-restaurant-brooklyn-4   \n",
       "6   i995W2_m6GuiBPnbHP2sPw         oasis-diner-restaurant-brooklyn-3   \n",
       "7   SyWBNlwqpgb4GLdpTEoQAw                  more-than-fries-brooklyn   \n",
       "8   VgXNaUKNFW2ibLU9LkuGjg  lindenwood-diner-and-restaurant-brooklyn   \n",
       "9   gm8BRPLIRTzapBuBUWNPfA                  island-burger-brooklyn-4   \n",
       "10  L62iZeOF6P6qN6qGLvxAsQ                       wang-shack-brooklyn   \n",
       "11  SZw7PCeIkt575oLU8yNpuQ           brooklyn-chckn-n-lbstr-new-york   \n",
       "12  xh6w5exbzfUWrZXGz09OUg   mashallah-grill-and-restaurant-brooklyn   \n",
       "13  aqmBcayYzm_J58P_CNQH6w                       bklyn-eats-brooklyn   \n",
       "14  eob2iJPiR7-r2w4he0Tuig         mill-basin-kosher-deli-brooklyn-3   \n",
       "15  Wckmo8BSOvTQa2CdbW0tGw                   burger-urway-brooklyn-4   \n",
       "16  ThHjjCmRhQQT6-dhgmJaLQ                     five-guys-brooklyn-14   \n",
       "17  8_BYOUot2vTJHv1nBfMZlA               boeuf-and-bun-crown-heights   \n",
       "18  MgGY2TEfFCyzxmMzcqAO6w                    the-juicy-box-brooklyn   \n",
       "19  wP6yFT_H_gevLQq3tOYy3Q                  island-burger-brooklyn-2   \n",
       "\n",
       "                             name  \\\n",
       "0                         3rd & 7   \n",
       "1                    Bear Burgers   \n",
       "2                      Hot Bagels   \n",
       "3                 Aunts et Uncles   \n",
       "4                     Smashburger   \n",
       "5               Lebron Restaurant   \n",
       "6          Oasis Diner Restaurant   \n",
       "7                 More Than Fries   \n",
       "8   Lindenwood Diner & Restaurant   \n",
       "9                   Island Burger   \n",
       "10                     Wang Shack   \n",
       "11         Brooklyn Chckn N Lbstr   \n",
       "12   MashAllah Grill & Restaurant   \n",
       "13                     BKLYN eats   \n",
       "14         Mill Basin Kosher Deli   \n",
       "15                   Burger Urway   \n",
       "16                      Five Guys   \n",
       "17                    Boeuf & Bun   \n",
       "18                  The Juicy Box   \n",
       "19                  Island Burger   \n",
       "\n",
       "                                            image_url  is_closed  \\\n",
       "0   https://s3-media2.fl.yelpcdn.com/bphoto/R4FqTD...      False   \n",
       "1   https://s3-media3.fl.yelpcdn.com/bphoto/8La1rT...      False   \n",
       "2   https://s3-media2.fl.yelpcdn.com/bphoto/LaDs11...      False   \n",
       "3   https://s3-media4.fl.yelpcdn.com/bphoto/H9Le_E...      False   \n",
       "4   https://s3-media4.fl.yelpcdn.com/bphoto/8mUOj9...      False   \n",
       "5   https://s3-media4.fl.yelpcdn.com/bphoto/JJH62I...      False   \n",
       "6   https://s3-media1.fl.yelpcdn.com/bphoto/IA4pmU...      False   \n",
       "7   https://s3-media2.fl.yelpcdn.com/bphoto/RulwlU...      False   \n",
       "8   https://s3-media2.fl.yelpcdn.com/bphoto/M1EBu2...      False   \n",
       "9   https://s3-media4.fl.yelpcdn.com/bphoto/MQnA2i...      False   \n",
       "10                                                         False   \n",
       "11  https://s3-media4.fl.yelpcdn.com/bphoto/zZpJPo...      False   \n",
       "12  https://s3-media3.fl.yelpcdn.com/bphoto/PRvEX8...      False   \n",
       "13  https://s3-media3.fl.yelpcdn.com/bphoto/ZY_Nk8...      False   \n",
       "14  https://s3-media2.fl.yelpcdn.com/bphoto/OPO0Zz...      False   \n",
       "15  https://s3-media3.fl.yelpcdn.com/bphoto/pUEGJI...      False   \n",
       "16  https://s3-media4.fl.yelpcdn.com/bphoto/QUO8-u...      False   \n",
       "17  https://s3-media1.fl.yelpcdn.com/bphoto/_p8a7Q...      False   \n",
       "18  https://s3-media2.fl.yelpcdn.com/bphoto/8l-lij...      False   \n",
       "19  https://s3-media2.fl.yelpcdn.com/bphoto/ok53gO...      False   \n",
       "\n",
       "                                                  url  review_count  \\\n",
       "0   https://www.yelp.com/biz/3rd-and-7-brooklyn?ad...            92   \n",
       "1   https://www.yelp.com/biz/bear-burgers-brooklyn...             3   \n",
       "2   https://www.yelp.com/biz/hot-bagels-brooklyn-7...            23   \n",
       "3   https://www.yelp.com/biz/aunts-et-uncles-brook...           151   \n",
       "4   https://www.yelp.com/biz/smashburger-brooklyn-...           236   \n",
       "5   https://www.yelp.com/biz/lebron-restaurant-bro...             5   \n",
       "6   https://www.yelp.com/biz/oasis-diner-restauran...           195   \n",
       "7   https://www.yelp.com/biz/more-than-fries-brook...             1   \n",
       "8   https://www.yelp.com/biz/lindenwood-diner-and-...           376   \n",
       "9   https://www.yelp.com/biz/island-burger-brookly...           194   \n",
       "10  https://www.yelp.com/biz/wang-shack-brooklyn?a...             1   \n",
       "11  https://www.yelp.com/biz/brooklyn-chckn-n-lbst...             3   \n",
       "12  https://www.yelp.com/biz/mashallah-grill-and-r...             2   \n",
       "13  https://www.yelp.com/biz/bklyn-eats-brooklyn?a...            45   \n",
       "14  https://www.yelp.com/biz/mill-basin-kosher-del...           237   \n",
       "15  https://www.yelp.com/biz/burger-urway-brooklyn...            52   \n",
       "16  https://www.yelp.com/biz/five-guys-brooklyn-14...            34   \n",
       "17  https://www.yelp.com/biz/boeuf-and-bun-crown-h...           119   \n",
       "18  https://www.yelp.com/biz/the-juicy-box-brookly...            93   \n",
       "19  https://www.yelp.com/biz/island-burger-brookly...           208   \n",
       "\n",
       "                                           categories  rating  \\\n",
       "0   [{'alias': 'sportsbars', 'title': 'Sports Bars...     4.0   \n",
       "1   [{'alias': 'newamerican', 'title': 'American (...     4.0   \n",
       "2            [{'alias': 'bagels', 'title': 'Bagels'}]     3.5   \n",
       "3              [{'alias': 'cafes', 'title': 'Cafes'}]     4.5   \n",
       "4          [{'alias': 'burgers', 'title': 'Burgers'}]     3.0   \n",
       "5   [{'alias': 'latin', 'title': 'Latin American'}...     2.5   \n",
       "6            [{'alias': 'diners', 'title': 'Diners'}]     4.0   \n",
       "7   [{'alias': 'hotdogs', 'title': 'Fast Food'}, {...     5.0   \n",
       "8   [{'alias': 'diners', 'title': 'Diners'}, {'ali...     4.0   \n",
       "9   [{'alias': 'burgers', 'title': 'Burgers'}, {'a...     3.5   \n",
       "10  [{'alias': 'waffles', 'title': 'Waffles'}, {'a...     5.0   \n",
       "11  [{'alias': 'fishnchips', 'title': 'Fish & Chip...     3.5   \n",
       "12  [{'alias': 'chickenshop', 'title': 'Chicken Sh...     5.0   \n",
       "13  [{'alias': 'breakfast_brunch', 'title': 'Break...     3.5   \n",
       "14  [{'alias': 'delis', 'title': 'Delis'}, {'alias...     3.5   \n",
       "15  [{'alias': 'burgers', 'title': 'Burgers'}, {'a...     2.0   \n",
       "16  [{'alias': 'burgers', 'title': 'Burgers'}, {'a...     2.5   \n",
       "17         [{'alias': 'burgers', 'title': 'Burgers'}]     3.5   \n",
       "18  [{'alias': 'bars', 'title': 'Bars'}, {'alias':...     3.5   \n",
       "19         [{'alias': 'burgers', 'title': 'Burgers'}]     3.5   \n",
       "\n",
       "                                          coordinates        transactions  \\\n",
       "0      {'latitude': 40.61497, 'longitude': -73.93606}          [delivery]   \n",
       "1      {'latitude': 40.64002, 'longitude': -73.90645}  [delivery, pickup]   \n",
       "2      {'latitude': 40.64203, 'longitude': -73.89913}  [delivery, pickup]   \n",
       "3      {'latitude': 40.65207, 'longitude': -73.94954}  [delivery, pickup]   \n",
       "4      {'latitude': 40.65172, 'longitude': -73.87286}  [delivery, pickup]   \n",
       "5   {'latitude': 40.66918689036557, 'longitude': -...  [delivery, pickup]   \n",
       "6      {'latitude': 40.61786, 'longitude': -73.93211}  [delivery, pickup]   \n",
       "7       {'latitude': 40.6642, 'longitude': -73.92428}  [delivery, pickup]   \n",
       "8      {'latitude': 40.66989, 'longitude': -73.85758}            [pickup]   \n",
       "9   {'latitude': 40.634518758278936, 'longitude': ...  [delivery, pickup]   \n",
       "10  {'latitude': 40.67324229653363, 'longitude': -...  [delivery, pickup]   \n",
       "11     {'latitude': 40.66818, 'longitude': -73.90665}  [delivery, pickup]   \n",
       "12   {'latitude': 40.612306, 'longitude': -73.925784}          [delivery]   \n",
       "13     {'latitude': 40.67547, 'longitude': -73.89855}  [delivery, pickup]   \n",
       "14     {'latitude': 40.61567, 'longitude': -73.91812}  [delivery, pickup]   \n",
       "15      {'latitude': 40.6558, 'longitude': -73.94201}  [delivery, pickup]   \n",
       "16  {'latitude': 40.62650091307452, 'longitude': -...          [delivery]   \n",
       "17   {'latitude': 40.670482, 'longitude': -73.941833}          [delivery]   \n",
       "18   {'latitude': 40.629069, 'longitude': -73.947001}  [delivery, pickup]   \n",
       "19  {'latitude': 40.6617093, 'longitude': -73.9317...  [delivery, pickup]   \n",
       "\n",
       "   price                                           location         phone  \\\n",
       "0     $$  {'address1': '3622 Quentin Rd', 'address2': ''...  +17183366300   \n",
       "1    NaN  {'address1': '8923 Flatlands Ave', 'address2':...  +16318762809   \n",
       "2      $  {'address1': '1594 Rockaway Pkwy', 'address2':...  +17182573068   \n",
       "3     $$  {'address1': '1407 Nostrand Ave', 'address2': ...  +13472950001   \n",
       "4     $$  {'address1': '528 Gateway Dr', 'address2': Non...  +17182356900   \n",
       "5    NaN  {'address1': '1567 Pitkin Ave', 'address2': ''...  +17183429070   \n",
       "6     $$  {'address1': '2132 Flatbush Ave', 'address2': ...  +17182583461   \n",
       "7    NaN  {'address1': '1077a Rutland Rd', 'address2': '...  +13472406806   \n",
       "8     $$  {'address1': '2870 Linden Blvd', 'address2': '...  +17182356343   \n",
       "9      $  {'address1': '2093 Nostrand Ave', 'address2': ...  +13477899955   \n",
       "10   NaN  {'address1': '701 Nostrand Ave', 'address2': '...  +13472211795   \n",
       "11   NaN  {'address1': '446 Mother Gaston Blvd', 'addres...  +13473508738   \n",
       "12   NaN  {'address1': '2368 Flatbush Ave', 'address2': ...  +19173108460   \n",
       "13     $  {'address1': '2592 Atlantic Ave', 'address2': ...  +13476631519   \n",
       "14    $$  {'address1': '5823 Ave T', 'address2': '', 'ad...  +17182414910   \n",
       "15     $  {'address1': '528 Clarkson Ave', 'address2': '...  +13476636005   \n",
       "16    $$  {'address1': '2159 Ralph Ave', 'address2': Non...  +13476730368   \n",
       "17    $$  {'address1': '271 Kingston Ave', 'address2': '...  +17182218900   \n",
       "18    $$  {'address1': '2281 Nostrand Ave', 'address2': ...  +19179334088   \n",
       "19    $$  {'address1': '504 Utica Ave', 'address2': '', ...  +17184952474   \n",
       "\n",
       "     display_phone     distance  \n",
       "0   (718) 336-6300  4147.371872  \n",
       "1   (631) 876-2809   613.239540  \n",
       "2   (718) 257-3068   260.402337  \n",
       "3   (347) 295-0001  4467.798853  \n",
       "4   (718) 235-6900  2597.572463  \n",
       "5   (718) 342-9070  3568.559015  \n",
       "6   (718) 258-3461  3683.512690  \n",
       "7   (347) 240-6806  3458.581191  \n",
       "8   (718) 235-6343  4864.815003  \n",
       "9   (347) 789-9955  4125.713778  \n",
       "10  (347) 221-1795  5691.288308  \n",
       "11  (347) 350-8738  3232.924158  \n",
       "12  (917) 310-8460  3778.566631  \n",
       "13  (347) 663-1519  3980.340123  \n",
       "14  (718) 241-4910  3100.308166  \n",
       "15  (347) 663-6005  4045.318100  \n",
       "16  (347) 673-0368  2047.473712  \n",
       "17  (718) 221-8900  4979.075354  \n",
       "18  (917) 933-4088  4202.280140  \n",
       "19  (718) 495-2474  3683.176928  "
      ]
     },
     "execution_count": 11,
     "metadata": {},
     "output_type": "execute_result"
    }
   ],
   "source": [
    "# convert to data frame\n",
    "pd.DataFrame(results['businesses'])"
   ]
  },
  {
   "cell_type": "code",
   "execution_count": 12,
   "id": "2ccd3137",
   "metadata": {},
   "outputs": [
    {
     "data": {
      "text/plain": [
       "218"
      ]
     },
     "execution_count": 12,
     "metadata": {},
     "output_type": "execute_result"
    }
   ],
   "source": [
    "# how many results total?\n",
    "results['total']"
   ]
  },
  {
   "cell_type": "code",
   "execution_count": 13,
   "id": "d6f60334",
   "metadata": {},
   "outputs": [
    {
     "data": {
      "text/plain": [
       "{'center': {'longitude': -73.8991928100586, 'latitude': 40.639615788863864}}"
      ]
     },
     "execution_count": 13,
     "metadata": {},
     "output_type": "execute_result"
    }
   ],
   "source": [
    "# what is in the region?\n",
    "results['region']"
   ]
  },
  {
   "cell_type": "code",
   "execution_count": 14,
   "id": "9999e0f0",
   "metadata": {},
   "outputs": [
    {
     "data": {
      "text/plain": [
       "20"
      ]
     },
     "execution_count": 14,
     "metadata": {},
     "output_type": "execute_result"
    }
   ],
   "source": [
    "# how many did we get the details for?\n",
    "results_per_page = len(results['businesses'])\n",
    "results_per_page"
   ]
  },
  {
   "cell_type": "code",
   "execution_count": 15,
   "id": "f68acd2b",
   "metadata": {},
   "outputs": [
    {
     "data": {
      "text/plain": [
       "11"
      ]
     },
     "execution_count": 15,
     "metadata": {},
     "output_type": "execute_result"
    }
   ],
   "source": [
    "# use the math.cell to round up for the total number of pages of results\n",
    "n_pages = math.ceil((results['total']) / results_per_page)\n",
    "n_pages"
   ]
  },
  {
   "cell_type": "markdown",
   "id": "77b55c67",
   "metadata": {},
   "source": [
    "# Extract and save the data"
   ]
  },
  {
   "cell_type": "code",
   "execution_count": 16,
   "id": "fafd436c",
   "metadata": {},
   "outputs": [
    {
     "data": {
      "application/vnd.jupyter.widget-view+json": {
       "model_id": "425d3c57d4e743d8bbfd15f1192721a5",
       "version_major": 2,
       "version_minor": 0
      },
      "text/plain": [
       "  0%|          | 0/11 [00:00<?, ?it/s]"
      ]
     },
     "metadata": {},
     "output_type": "display_data"
    }
   ],
   "source": [
    "# create a for loop\n",
    "for i in tqdm_notebook(range(1, n_pages + 1)):\n",
    "   # the block of code we want to TRY to run\n",
    "    try:\n",
    "        \n",
    "        time.sleep(.2)\n",
    "        \n",
    "        # Read in results in progress file and check the length\n",
    "        with open(JSON_FILE, 'r') as f:\n",
    "            previous_results = json.load(f)\n",
    "            \n",
    "        # save number of results for to use as offset\n",
    "        n_results = len(previous_results)\n",
    "        \n",
    "        \n",
    "        # use n_results as the OFFSET \n",
    "        results = yelp.search_query(location = location,\n",
    "                                        term = term, \n",
    "                                        offset = n_results + 1)\n",
    "\n",
    "        # append new results and save to file\n",
    "        previous_results.extend(['businesses'])\n",
    "\n",
    "        with open(JSON_FILE,'w') as f:\n",
    "            json.dump(previous_results,f)\n",
    "            \n",
    "    # what to do if we get an error/exception.\n",
    "    except Exception as e: # saving the error message so we can print it.\n",
    "        print('[!] ERROR: ',e)"
   ]
  },
  {
   "cell_type": "markdown",
   "id": "fccbbe8e",
   "metadata": {},
   "source": [
    "# Convert JSON to dataframe"
   ]
  },
  {
   "cell_type": "code",
   "execution_count": 17,
   "id": "7b937c9d",
   "metadata": {},
   "outputs": [
    {
     "data": {
      "text/html": [
       "<div>\n",
       "<style scoped>\n",
       "    .dataframe tbody tr th:only-of-type {\n",
       "        vertical-align: middle;\n",
       "    }\n",
       "\n",
       "    .dataframe tbody tr th {\n",
       "        vertical-align: top;\n",
       "    }\n",
       "\n",
       "    .dataframe thead th {\n",
       "        text-align: right;\n",
       "    }\n",
       "</style>\n",
       "<table border=\"1\" class=\"dataframe\">\n",
       "  <thead>\n",
       "    <tr style=\"text-align: right;\">\n",
       "      <th></th>\n",
       "      <th>0</th>\n",
       "    </tr>\n",
       "  </thead>\n",
       "  <tbody>\n",
       "    <tr>\n",
       "      <th>0</th>\n",
       "      <td>businesses</td>\n",
       "    </tr>\n",
       "    <tr>\n",
       "      <th>1</th>\n",
       "      <td>businesses</td>\n",
       "    </tr>\n",
       "    <tr>\n",
       "      <th>2</th>\n",
       "      <td>businesses</td>\n",
       "    </tr>\n",
       "    <tr>\n",
       "      <th>3</th>\n",
       "      <td>businesses</td>\n",
       "    </tr>\n",
       "    <tr>\n",
       "      <th>4</th>\n",
       "      <td>businesses</td>\n",
       "    </tr>\n",
       "  </tbody>\n",
       "</table>\n",
       "</div>"
      ],
      "text/plain": [
       "            0\n",
       "0  businesses\n",
       "1  businesses\n",
       "2  businesses\n",
       "3  businesses\n",
       "4  businesses"
      ]
     },
     "execution_count": 17,
     "metadata": {},
     "output_type": "execute_result"
    }
   ],
   "source": [
    "# load the final results\n",
    "df = pd.read_json(JSON_FILE)\n",
    "df.head()"
   ]
  },
  {
   "cell_type": "markdown",
   "id": "dcd4ba91",
   "metadata": {},
   "source": [
    "* Not sure what error caused my final results to occur like this."
   ]
  },
  {
   "cell_type": "code",
   "execution_count": 18,
   "id": "71362cc1",
   "metadata": {},
   "outputs": [
    {
     "data": {
      "text/plain": [
       "'Data/Brooklyn-hamburgers.csv.gz'"
      ]
     },
     "execution_count": 18,
     "metadata": {},
     "output_type": "execute_result"
    }
   ],
   "source": [
    "# convert the file to a .csv.gz\n",
    "csv_file = JSON_FILE.replace('.json', '.csv.gz')\n",
    "csv_file"
   ]
  },
  {
   "cell_type": "code",
   "execution_count": 20,
   "id": "bae6d548",
   "metadata": {},
   "outputs": [],
   "source": [
    "# save to a compressed csv (this is to save space)\n",
    "df.to_csv(csv_file, compression = 'gzip', index = False)"
   ]
  }
 ],
 "metadata": {
  "kernelspec": {
   "display_name": "Python (dojo-env)",
   "language": "python",
   "name": "dojo-env"
  },
  "language_info": {
   "codemirror_mode": {
    "name": "ipython",
    "version": 3
   },
   "file_extension": ".py",
   "mimetype": "text/x-python",
   "name": "python",
   "nbconvert_exporter": "python",
   "pygments_lexer": "ipython3",
   "version": "3.8.13"
  },
  "toc": {
   "base_numbering": 1,
   "nav_menu": {},
   "number_sections": false,
   "sideBar": true,
   "skip_h1_title": false,
   "title_cell": "Table of Contents",
   "title_sidebar": "Contents",
   "toc_cell": false,
   "toc_position": {},
   "toc_section_display": true,
   "toc_window_display": false
  }
 },
 "nbformat": 4,
 "nbformat_minor": 5
}
